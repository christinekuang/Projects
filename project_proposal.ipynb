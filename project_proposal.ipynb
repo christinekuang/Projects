{
 "cells": [
  {
   "cell_type": "markdown",
   "metadata": {},
   "source": [
    "# Project Proposal"
   ]
  },
  {
   "cell_type": "markdown",
   "metadata": {},
   "source": [
    "## About the Topic"
   ]
  },
  {
   "cell_type": "markdown",
   "metadata": {},
   "source": [
    "The topic of our project is the analysis of video and channels within Youtube. The importance of doing this topic can be divided in two different ways. From exploring the videos, we can indicate which videos were trending within the period of time, which are good indicators of the past status, since higher number of views means more people are watching and searching this specific category of videos. The second approach to this topic is thinking as a video content creator, knowing what types of videos people were into in general can be helpful when producing video for specific audience.\n",
    "The questions we will attempt to answer are:\n",
    "* -What category of videos was trending based on different months of the year? Do they show the status of the society at that time?\n",
    "* -What types of video people tend to like more in general or in different age group? What -can we say about people’s preferences when choosing what videos to watch?\n",
    "* -Is there a relationship between views of the video and the subscribers of the channels?\n",
    "* -Is there a relationship between the amount of subscribers of the channel and its frequency of posting videos?\n",
    "* (These questions are not yet finalized but will be similar to the actual questions) "
   ]
  },
  {
   "cell_type": "markdown",
   "metadata": {},
   "source": [
    "In conclusion, We hope by exploring this topic, we can have a better understanding of how corresponding videos are with our daily events, and our preferences of things. We also hope this topic will provide an overview of how youtube videos work for the graphical content creators. "
   ]
  },
  {
   "cell_type": "markdown",
   "metadata": {},
   "source": [
    "## The Data"
   ]
  },
  {
   "cell_type": "markdown",
   "metadata": {},
   "source": [
    "The major data source our team will use is the Youtube-8M Dataset, the largest multi-label video classification dataset, composed of nearly 6.1 million video IDs and 2.6 audio/visual features. The dataset represents over 350,000 hours of videos and annotated with a vocabulary of 3862 Knowledge Graph entities, including both coarse and fine-grained entities. Each entity has at least 200 corresponding video examples, with an average of 3552 training videos per entity. In addition, we are going to use the Youtube Data APIs to incorporate functions executed on the Youtube website into our own application. For example, we will use the “activity” resource to obtain information about an action, such as sharing, liking, and rating a video, that a particular channel, or user, has taken on Youtube. The way we will use the data is mainly looking at various features, labels, and categories to find correlation between them. "
   ]
  },
  {
   "cell_type": "markdown",
   "metadata": {},
   "source": [
    "### Links of the Data"
   ]
  },
  {
   "cell_type": "markdown",
   "metadata": {},
   "source": [
    "The links of the sources: \n",
    "* https://research.google.com/youtube8m/index.html (Youtube-8M)\n",
    "* https://developers.google.com/youtube/v3/getting-started (YouTube Data API)"
   ]
  },
  {
   "cell_type": "markdown",
   "metadata": {},
   "source": [
    "## The Challenges"
   ]
  },
  {
   "cell_type": "markdown",
   "metadata": {},
   "source": [
    "The challenging part of this project is to recognize the most significant tag for various videos. It may have multiple tags added by youtube server or reviewer. It is our job to further classify them in specific categories. There are many criterias we need to focus while we collect the data. For an example, while we need to decide our variables, we have to define the type of them first. The length of the video can be continuous variable in time units, or it can be categorical variable based on an even-spaced interval. Stated on above introduction, the response variable can be total number of views, number of comments or liking scales. Based on our past knowledge, we can apply statistical techniques as following: Data analysis coding and visualization skill from STA141A; Linear regression from STA108; Categorical analysis from STA138; Some other skills like KNN and cross validation. For time management, we decide to work on the project immediately. Although the six weeks seem sufficient for us to accomplish this project, other academic burdens including routine homeworks and exams consume plenty of time as well. We will have a short meeting every week to check our individual progress and make it integrated. In conclusion, we are passionate about our project thus ask your approval to start working on it."
   ]
  }
 ],
 "metadata": {
  "kernelspec": {
   "display_name": "Python 3",
   "language": "python",
   "name": "python3"
  },
  "language_info": {
   "codemirror_mode": {
    "name": "ipython",
    "version": 3
   },
   "file_extension": ".py",
   "mimetype": "text/x-python",
   "name": "python",
   "nbconvert_exporter": "python",
   "pygments_lexer": "ipython3",
   "version": "3.7.1"
  }
 },
 "nbformat": 4,
 "nbformat_minor": 2
}
